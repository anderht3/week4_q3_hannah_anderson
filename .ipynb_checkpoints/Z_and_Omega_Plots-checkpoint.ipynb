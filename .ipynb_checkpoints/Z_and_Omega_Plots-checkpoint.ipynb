{
 "cells": [
  {
   "cell_type": "code",
   "execution_count": 111,
   "id": "686ddf00",
   "metadata": {},
   "outputs": [],
   "source": [
    "import matplotlib\n",
    "from scipy.optimize import root_scalar\n",
    "import numpy as np\n",
    "import matplotlib.pyplot as plt"
   ]
  },
  {
   "cell_type": "code",
   "execution_count": 96,
   "id": "f76bf74b",
   "metadata": {},
   "outputs": [],
   "source": [
    "thomson_cross = 0.665e-24"
   ]
  },
  {
   "cell_type": "markdown",
   "id": "bae15e8c",
   "metadata": {},
   "source": [
    "This first root scalar function is used in order to find the values of ne/H as neither were explicitly stated in the text. In this case, we are assuming (from the text) that Xe is 1 and z >> 10^3 and values were chosen based on the figure 4.4 in the text."
   ]
  },
  {
   "cell_type": "code",
   "execution_count": 106,
   "id": "d2f8160a",
   "metadata": {},
   "outputs": [],
   "source": [
    "def f(y):\n",
    "    return (123 *  (1) * (0.01/0.022) * (0.14/0.1431) ** (1/2) * ((1+5000)/1000) ** (3/2) * (1 + (1+5000)/3360 * (0.14/0.1431))**(-1/2) - (thomson_cross * y))"
   ]
  },
  {
   "cell_type": "code",
   "execution_count": 107,
   "id": "c2b190ea",
   "metadata": {},
   "outputs": [
    {
     "name": "stdout",
     "output_type": "stream",
     "text": [
      "7.5\n"
     ]
    }
   ],
   "source": [
    "\n",
    "pts = root_scalar(f ,x0 = 10, x1 = 5)\n",
    "print(pts.root)"
   ]
  },
  {
   "cell_type": "markdown",
   "id": "dea18948",
   "metadata": {},
   "source": [
    "Here now that we have the missing value, we can use what we have found from the text in order to observe how z changes with $\\Omega_b h^2$. "
   ]
  },
  {
   "cell_type": "code",
   "execution_count": 99,
   "id": "52e3e5be",
   "metadata": {},
   "outputs": [],
   "source": [
    "x = np.linspace(0.01, 0.05, 100)\n",
    "y = np.zeros(100)"
   ]
  },
  {
   "cell_type": "code",
   "execution_count": 108,
   "id": "53b871d4",
   "metadata": {},
   "outputs": [],
   "source": [
    "for i in range(10):\n",
    "    def f(y):\n",
    "        return (123 *  (1) * (x[i]/0.022) * (0.14/0.1431) ** (1/2) * ((1+y)/1000) ** (3/2) * (1 + (1+y)/3360 * (0.14/0.1431))**(-1/2) - (thomson_cross * 7.5))\n",
    "    pts = root_scalar(f ,x0 = 10, x1 = 5)\n",
    "    y[i] += pts.root\n",
    "    "
   ]
  },
  {
   "cell_type": "code",
   "execution_count": 109,
   "id": "7f81b4f4",
   "metadata": {},
   "outputs": [
    {
     "name": "stdout",
     "output_type": "stream",
     "text": [
      "[4999.00000001 3699.42680537 2986.56363156 2530.97937517 2212.12213073\n",
      " 1975.07522169 1791.10393344 1643.65285682 1522.48077347 1420.89596131]\n"
     ]
    }
   ],
   "source": [
    "print(y)"
   ]
  },
  {
   "cell_type": "code",
   "execution_count": 116,
   "id": "8766b1ee",
   "metadata": {},
   "outputs": [
    {
     "name": "stderr",
     "output_type": "stream",
     "text": [
      "No artists with labels found to put in legend.  Note that artists whose label start with an underscore are ignored when legend() is called with no argument.\n"
     ]
    },
    {
     "data": {
      "text/plain": [
       "<matplotlib.legend.Legend at 0x7ff1e8417fa0>"
      ]
     },
     "execution_count": 116,
     "metadata": {},
     "output_type": "execute_result"
    },
    {
     "data": {
      "image/png": "[encoded data removed]",
      "text/plain": [
       "<Figure size 432x288 with 1 Axes>"
      ]
     },
     "metadata": {
      "needs_background": "light"
     },
     "output_type": "display_data"
    }
   ],
   "source": [
    "plt.figure()\n",
    "plt.plot(x, y)\n",
    "plt.title(\"Z at early times\")\n",
    "plt.xlabel('$\\Omega_b h^2$')\n",
    "plt.ylabel(\"Redshift z\")\n",
    "plt.legend()"
   ]
  },
  {
   "cell_type": "code",
   "execution_count": null,
   "id": "10b7fe1b",
   "metadata": {},
   "outputs": [],
   "source": []
  }
 ],
 "metadata": {
  "kernelspec": {
   "display_name": "Python 3 (ipykernel)",
   "language": "python",
   "name": "python3"
  },
  "language_info": {
   "codemirror_mode": {
    "name": "ipython",
    "version": 3
   },
   "file_extension": ".py",
   "mimetype": "text/x-python",
   "name": "python",
   "nbconvert_exporter": "python",
   "pygments_lexer": "ipython3",
   "version": "3.9.12"
  }
 },
 "nbformat": 4,
 "nbformat_minor": 5
}
